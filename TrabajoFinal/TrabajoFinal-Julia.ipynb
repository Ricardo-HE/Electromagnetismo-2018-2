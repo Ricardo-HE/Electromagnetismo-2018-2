{
 "cells": [
  {
   "cell_type": "markdown",
   "metadata": {},
   "source": [
    "# Proyecto Final\n",
    "### Electromagnetismo\n",
    "### Ricardo Holguin Esquer\n",
    "\n",
    "#### Versión Julia"
   ]
  },
  {
   "cell_type": "markdown",
   "metadata": {},
   "source": [
    "## Cargas puntuales\n",
    "### Tarea 1\n",
    "\n",
    "Una carga puntual es una carga eléctrica hipotética, de magnitud finita, contenida en un punto geométrico carente de toda dimensión, en otras palabras una carga puntual consiste en dos cuerpos con carga que son muy pequeños en comparación con la distancia que los separa. Esta suposición resulta muy práctica al resolver problemas de electrostática, pues los efectos derivados de una distribución de cargas en un espacio finito se anulan y el problema se simplifica enormemente. "
   ]
  },
  {
   "cell_type": "markdown",
   "metadata": {},
   "source": [
    "#### Librerias"
   ]
  },
  {
   "cell_type": "code",
   "execution_count": 1,
   "metadata": {},
   "outputs": [
    {
     "data": {
      "text/plain": [
       "Plots.PyPlotBackend()"
      ]
     },
     "execution_count": 1,
     "metadata": {},
     "output_type": "execute_result"
    }
   ],
   "source": [
    "import Plots\n",
    "Plots.pyplot()"
   ]
  },
  {
   "cell_type": "markdown",
   "metadata": {},
   "source": [
    "#### Jalar datos del archivo de texto\n",
    "\n",
    "También inicializare las variables con los valores que jale del archivo"
   ]
  },
  {
   "cell_type": "code",
   "execution_count": 2,
   "metadata": {},
   "outputs": [],
   "source": [
    "file = open(\"Datos.txt\")\n",
    "noCargas = parse(Int,readline(file))\n",
    "\n",
    "cargas = Array{Float64}(undef, noCargas)\n",
    "coordenadas = Array{Float64}(undef, noCargas, 2)\n",
    "k = 9.0e9\n",
    "\n",
    "for i=1:noCargas\n",
    "    cargas[i] = parse(Float64,readline(file))\n",
    "    coordenadas[i,1] = parse(Float64, readline(file))\n",
    "    coordenadas[i,2] = parse(Float64, readline(file))\n",
    "end\n",
    "close(file)"
   ]
  },
  {
   "cell_type": "markdown",
   "metadata": {},
   "source": [
    "#### Calcular las fuerzas de las cargas"
   ]
  },
  {
   "cell_type": "code",
   "execution_count": 3,
   "metadata": {},
   "outputs": [
    {
     "data": {
      "text/plain": [
       "3×3 Array{Float64,2}:\n",
       " 6.94036e-310  0.293023      0.2         \n",
       " 6.94036e-310  6.94036e-310  0.149481    \n",
       " 4.94066e-324  6.94036e-310  9.88131e-324"
      ]
     },
     "metadata": {},
     "output_type": "display_data"
    }
   ],
   "source": [
    "fuerzaCargas = Matrix{Float64}(undef,noCargas,noCargas)\n",
    "\n",
    "# Calcular las fuerzas de cada una carga con todas las demas\n",
    "# Se guardaran en la diagonal superior derecha de una matriz\n",
    "for i = 1:noCargas\n",
    "    for j = i+1:noCargas\n",
    "        radio = sqrt((coordenadas[j,1] - coordenadas[i,1])^2 + (coordenadas[j,2] - coordenadas[i,2])^2)\n",
    "        fuerzaCargas[i,j] = abs(k*cargas[i]*cargas[j]/radio^2)\n",
    "    end\n",
    "end\n",
    "\n",
    "display(\"text/plain\", fuerzaCargas)"
   ]
  },
  {
   "cell_type": "markdown",
   "metadata": {},
   "source": [
    "#### Calcular direcciones y su fuerza a ella"
   ]
  },
  {
   "cell_type": "code",
   "execution_count": 5,
   "metadata": {},
   "outputs": [
    {
     "name": "stdout",
     "output_type": "stream",
     "text": [
      "Fuerzas: [0.386349, 0.23403, 0.15232]\n",
      "Angulos de las direcciones: [-97.1087, 82.8173, 83.0049]\n"
     ]
    }
   ],
   "source": [
    "sumaFuerzasX = zeros(noCargas)\n",
    "sumaFuerzasY = zeros(noCargas)\n",
    "fuerzasTotales = zeros(noCargas)\n",
    "angulosFuerza = zeros(noCargas)\n",
    "for i = 1:noCargas\n",
    "    # Primero se suman las columnas de la carga en la matriz de fuerzas\n",
    "    for j = 1:noCargas\n",
    "        # calcula el angulo de la carga i respecto a la carga j\n",
    "        angulo = atan(coordenadas[j,2]-coordenadas[i,2], coordenadas[j,1]-coordenadas[i,1])\n",
    "\n",
    "        if j < i\n",
    "            # sumar fuerzas en el eje X\n",
    "            if (coordenadas[i,1] > coordenadas[j,1] && cargas[i]*cargas[j] < 0) || (coordenadas[i,1] < coordenadas[j,1] && cargas[i]*cargas[j] > 0)\n",
    "                sumaFuerzasX[i] -= fuerzaCargas[j,i]*abs(cos(angulo))\n",
    "            elseif (coordenadas[i,1] > coordenadas[j,1] && cargas[i]*cargas[j] > 0) || (coordenadas[i,1] < coordenadas[j,1] && cargas[i]*cargas[j] < 0)\n",
    "                sumaFuerzasX[i] += fuerzaCargas[j,i]*abs(cos(angulo))\n",
    "            end\n",
    "            # sumar fuerzas en el eje Y\n",
    "            if (coordenadas[i,2] > coordenadas[j,2] && cargas[i]*cargas[j] < 0) || (coordenadas[i,2] < coordenadas[j,2] && cargas[i]*cargas[j] > 0)\n",
    "                sumaFuerzasY[i] -= fuerzaCargas[j,i]*abs(sin(angulo))\n",
    "            elseif (coordenadas[i,2] > coordenadas[j,2] && cargas[i]*cargas[j] > 0) || (coordenadas[i,2] < coordenadas[j,2] && cargas[i]*cargas[j] < 0)\n",
    "                sumaFuerzasY[i] += fuerzaCargas[j,i]*abs(sin(angulo))\n",
    "            end\n",
    "        else\n",
    "            break\n",
    "        end\n",
    "    end\n",
    "\n",
    "    for j = i+1:noCargas\n",
    "        angulo = atan(coordenadas[j,2]-coordenadas[i,2], coordenadas[j,1]-coordenadas[i,1])\n",
    "\n",
    "        # Sumar fuerzas en el eje X\n",
    "        if (coordenadas[i,1] > coordenadas[j,1] && cargas[i]*cargas[j] < 0) || (coordenadas[i,1] < coordenadas[j,1] && cargas[i]*cargas[j] > 0)\n",
    "            sumaFuerzasX[i] -= fuerzaCargas[i,j]*abs(cos(angulo))\n",
    "        elseif (coordenadas[i,1] > coordenadas[j,1] && cargas[i]*cargas[j] > 0) || (coordenadas[i,1] < coordenadas[j,1] && cargas[i]*cargas[j] < 0)\n",
    "            sumaFuerzasX[i] += fuerzaCargas[i,j]*abs(cos(angulo))\n",
    "        end\n",
    "\n",
    "        #Sumar fuerzas en el eje Y\n",
    "        if (coordenadas[i,2] > coordenadas[j,2] && cargas[i]*cargas[j] < 0) || (coordenadas[i,2] < coordenadas[j,2] && cargas[i]*cargas[j] > 0)\n",
    "            sumaFuerzasY[i] -= fuerzaCargas[i,j]*abs(sin(angulo))\n",
    "        elseif (coordenadas[i,] > coordenadas[j,2] && cargas[i]*cargas[j] > 0) || (coordenadas[i,2] < coordenadas[j,2] && cargas[i]*cargas[j] < 0)\n",
    "            sumaFuerzasY[i] += fuerzaCargas[i,j]*abs(sin(angulo))\n",
    "        end\n",
    "    end\n",
    "\n",
    "    fuerzasTotales[i] = sqrt(sumaFuerzasX[i]^2 + sumaFuerzasY[i]^2)\n",
    "    angulosFuerza[i] = atand(sumaFuerzasY[i], sumaFuerzasX[i])\n",
    "end\n",
    "\n",
    "println(\"Fuerzas: \", fuerzasTotales)\n",
    "#display(\"text/plain\", fuerzasTotales)\n",
    "println(\"Angulos de las direcciones: \", angulosFuerza)\n",
    "#display(\"text/plain\", angulosFuerza)\n",
    "#println()"
   ]
  },
  {
   "cell_type": "markdown",
   "metadata": {},
   "source": [
    "#### Gráficar"
   ]
  },
  {
   "cell_type": "code",
   "execution_count": 21,
   "metadata": {},
   "outputs": [
    {
     "data": {
      "image/png": "[encoded data removed]",
      "text/plain": [
       "PyPlot.Figure(PyObject <Figure size 600x400 with 1 Axes>)"
      ]
     },
     "metadata": {},
     "output_type": "display_data"
    }
   ],
   "source": [
    "n = noCargas\n",
    "y = coordenadas[:,2]\n",
    "x = coordenadas[:,1]\n",
    "vx, vy = sumaFuerzasX, sumaFuerzasY\n",
    "\n",
    "fn = Plots.quiver(x,y, quiver=(vx,vy))\n",
    "Plots.savefig(\"figure1\")"
   ]
  },
  {
   "cell_type": "markdown",
   "metadata": {},
   "source": [
    "## Dipolo\n",
    "### Tarea 2\n",
    "\n",
    "Las líneas de campo eléctrico para dos cargas puntuales de igual magnitud pero de signos opuestos son conocidas como dipolo eléctrico, es un sistema de dos cargas de signo opuesto e igual magnitud cercanas entre sí.\n",
    "\n",
    "Los dipolos aparecen en cuerpos aislantes dieléctricos. A diferencia de lo que ocurre en los materiales conductores, en los aislantes los electrones no son libres. Al aplicar un campo eléctrico a un dieléctrico aislante éste se polariza dando lugar a que los dipolos eléctricos se reorienten en la dirección del campo disminuyendo la intensidad de éste. "
   ]
  },
  {
   "cell_type": "code",
   "execution_count": 7,
   "metadata": {},
   "outputs": [],
   "source": [
    "import PyPlot"
   ]
  },
  {
   "cell_type": "code",
   "execution_count": 18,
   "metadata": {},
   "outputs": [
    {
     "data": {
      "text/plain": [
       "E (generic function with 1 method)"
      ]
     },
     "execution_count": 18,
     "metadata": {},
     "output_type": "execute_result"
    }
   ],
   "source": [
    "function E(q, r0, x, y)\n",
    "    \"\"\"Return the electric field vector E=(Ex,Ey) due to charge q at r0.\"\"\"\n",
    "    den = hypot(x-r0[1], y-r0[2])^3\n",
    "    return (q * (x - r0[1]) / den, q * (y - r0[2]) / den)\n",
    "end"
   ]
  },
  {
   "cell_type": "code",
   "execution_count": 10,
   "metadata": {},
   "outputs": [
    {
     "data": {
      "text/plain": [
       "([-2.0, -1.93651, -1.87302, -1.80952, -1.74603, -1.68254, -1.61905, -1.55556, -1.49206, -1.42857  …  1.42857, 1.49206, 1.55556, 1.61905, 1.68254, 1.74603, 1.80952, 1.87302, 1.93651, 2.0], [-2.0, -2.0, -2.0, -2.0, -2.0, -2.0, -2.0, -2.0, -2.0, -2.0  …  2.0, 2.0, 2.0, 2.0, 2.0, 2.0, 2.0, 2.0, 2.0, 2.0])"
      ]
     },
     "execution_count": 10,
     "metadata": {},
     "output_type": "execute_result"
    }
   ],
   "source": [
    "# Grid of x, y points\n",
    "nx, ny = 64, 64\n",
    "x = range(-2,stop=2, length=nx)\n",
    "y = range(-2, stop=2, length=ny)\n",
    "meshgrid(x, y) = (repeat(x, outer=length(y)), repeat(y, inner=length(x)))\n",
    "X, Y = meshgrid(x,y)"
   ]
  },
  {
   "cell_type": "code",
   "execution_count": 13,
   "metadata": {},
   "outputs": [],
   "source": [
    "# Create a multipole with nq charges of alternating sign, equally spaced\n",
    "# on the unit circle.\n",
    "nq = 2^1\n",
    "charges = []\n",
    "for i in range(0,stop=nq-1)\n",
    "    q = i%2 * 2 - 1\n",
    "    push!(charges,(q, (cos(2*π*i/nq), sin(2*π*i/nq))))\n",
    "end"
   ]
  },
  {
   "cell_type": "code",
   "execution_count": 19,
   "metadata": {},
   "outputs": [
    {
     "ename": "MethodError",
     "evalue": "MethodError: no method matching -(::Array{Float64,1}, ::Float64)\nClosest candidates are:\n  -(!Matched::Float64, ::Float64) at float.jl:397\n  -(!Matched::Complex{Bool}, ::Real) at complex.jl:298\n  -(!Matched::Missing, ::Number) at missing.jl:93\n  ...",
     "output_type": "error",
     "traceback": [
      "MethodError: no method matching -(::Array{Float64,1}, ::Float64)\nClosest candidates are:\n  -(!Matched::Float64, ::Float64) at float.jl:397\n  -(!Matched::Complex{Bool}, ::Real) at complex.jl:298\n  -(!Matched::Missing, ::Number) at missing.jl:93\n  ...",
      "",
      "Stacktrace:",
      " [1] E(::Int64, ::Tuple{Float64,Float64}, ::Array{Float64,1}, ::Array{Float64,1}) at ./In[18]:3",
      " [2] top-level scope at ./In[19]:4"
     ]
    }
   ],
   "source": [
    "# Electric field vector, E=(Ex, Ey), as separate components\n",
    "Ex, Ey = zeros((ny, nx)), zeros((ny, nx))\n",
    "for charge in charges\n",
    "    ex, ey = E(charge[1], charge[2], X, Y)\n",
    "    Ex += ex\n",
    "    Ey += ey\n",
    "end"
   ]
  },
  {
   "cell_type": "code",
   "execution_count": null,
   "metadata": {},
   "outputs": [],
   "source": [
    "fig = plt.figure()\n",
    "ax = fig.add_subplot(111)\n",
    "\n",
    "# Plot the streamlines with an appropriate colormap and arrow style\n",
    "color = 2 * np.log(np.hypot(Ex, Ey))\n",
    "ax.streamplot(x, y, Ex, Ey, color=color, linewidth=1, cmap=plt.cm.inferno,\n",
    "              density=2, arrowstyle='->', arrowsize=1.5)\n",
    "\n",
    "# Add filled circles for the charges themselves\n",
    "charge_colors = {True: '#aa0000', False: '#0000aa'}\n",
    "for q, pos in charges:\n",
    "    print(pos)\n",
    "    ax.add_artist(Circle(pos, 0.05, color=charge_colors[q>0]))\n",
    "\n",
    "ax.set_xlabel('$x$')\n",
    "ax.set_ylabel('$y$')\n",
    "ax.set_xlim(-2,2)\n",
    "ax.set_ylim(-2,2)\n",
    "ax.set_aspect('equal')\n",
    "plt.show()"
   ]
  }
 ],
 "metadata": {
  "kernelspec": {
   "display_name": "Julia 1.0.0",
   "language": "julia",
   "name": "julia-1.0"
  },
  "language_info": {
   "file_extension": ".jl",
   "mimetype": "application/julia",
   "name": "julia",
   "version": "1.0.0"
  }
 },
 "nbformat": 4,
 "nbformat_minor": 2
}
