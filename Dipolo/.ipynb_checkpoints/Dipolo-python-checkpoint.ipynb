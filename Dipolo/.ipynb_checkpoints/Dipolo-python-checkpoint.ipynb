{
 "cells": [
  {
   "cell_type": "code",
   "execution_count": null,
   "metadata": {},
   "outputs": [],
   "source": [
    "import numpy as np\n",
    "import matplotlib.pyplot as plt\n",
    "from matplotlib.patches import Circle"
   ]
  },
  {
   "cell_type": "code",
   "execution_count": null,
   "metadata": {},
   "outputs": [],
   "source": [
    "def E(q, r0, x, y):\n",
    "    \"\"\"Return the electric field vector E=(Ex,Ey) due to charge q at r0.\"\"\"\n",
    "    den = np.hypot(x-r0[0], y-r0[1])**3\n",
    "    return q * (x - r0[0]) / den, q * (y - r0[1]) / den"
   ]
  },
  {
   "cell_type": "code",
   "execution_count": null,
   "metadata": {},
   "outputs": [],
   "source": [
    "# Grid of x, y points\n",
    "nx, ny = 64, 64\n",
    "x = np.linspace(-2, 2, nx)\n",
    "y = np.linspace(-2, 2, ny)\n",
    "X, Y = np.meshgrid(x, y)"
   ]
  },
  {
   "cell_type": "code",
   "execution_count": null,
   "metadata": {},
   "outputs": [],
   "source": [
    "# Create a multipole with nq charges of alternating sign, equally spaced\n",
    "# on the unit circle.\n",
    "nq = 2**int(1)\n",
    "charges = []\n",
    "for i in range(nq):\n",
    "    q = i%2 * 2 - 1\n",
    "    charges.append((q, (np.cos(2*np.pi*i/nq), np.sin(2*np.pi*i/nq))))"
   ]
  },
  {
   "cell_type": "code",
   "execution_count": null,
   "metadata": {},
   "outputs": [],
   "source": [
    "# Electric field vector, E=(Ex, Ey), as separate components\n",
    "Ex, Ey = np.zeros((ny, nx)), np.zeros((ny, nx))\n",
    "for charge in charges:\n",
    "    ex, ey = E(*charge, x=X, y=Y)\n",
    "    Ex += ex\n",
    "    Ey += ey"
   ]
  }
 ],
 "metadata": {
  "kernelspec": {
   "display_name": "Python 3",
   "language": "python",
   "name": "python3"
  },
  "language_info": {
   "codemirror_mode": {
    "name": "ipython",
    "version": 3
   },
   "file_extension": ".py",
   "mimetype": "text/x-python",
   "name": "python",
   "nbconvert_exporter": "python",
   "pygments_lexer": "ipython3",
   "version": "3.6.6"
  }
 },
 "nbformat": 4,
 "nbformat_minor": 2
}
