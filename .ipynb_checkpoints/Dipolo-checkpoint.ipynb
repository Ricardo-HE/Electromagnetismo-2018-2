{
 "cells": [
  {
   "cell_type": "markdown",
   "metadata": {},
   "source": [
    "### Carga de un punto en un dipolo\n",
    "\n",
    "o lo que sea idk lol\n"
   ]
  },
  {
   "cell_type": "code",
   "execution_count": 4,
   "metadata": {},
   "outputs": [
    {
     "name": "stdout",
     "output_type": "stream",
     "text": [
      "3.456\n"
     ]
    }
   ],
   "source": [
    "# Magnitud de un punto en medio de un dipolo\n",
    "\n",
    "# Constante k\n",
    "k = 9e9\n",
    "\n",
    "# Maquinut de las cargas\n",
    "Q = 8e-9\n",
    "\n",
    "# Distancia a la que se encuentran las cargas del dipolo\n",
    "distDi = 6\n",
    "radio = distDi/2\n",
    "\n",
    "# altura del punto de interes\n",
    "h = 4\n",
    "\n",
    "# Distancia de una carga al punto de interes\n",
    "dist = sqrt(radio^2 + h^2)\n",
    "\n",
    "# Con estos datos se puede calcular la fuerza neta de cualquiera de las al punto de interes \n",
    "E_positivo = k*Q/dist^2\n",
    "\n",
    "# Ahora, se calculara la fuerza del campo electrico en el eje X, E_x\n",
    "\n",
    "# Angulo de una carga del dipolo respecto al punto de interes\n",
    "θ = atand(4, radio)\n",
    "\n",
    "E_x = E_positivo * cosd(θ)\n",
    "\n",
    "# Y como todo esto es simetrico, la fuerza de E_x del campo electrico de la carga positiva es la misma que para la\n",
    "# carga negativa del dipolo, entonces ambas fuerzas se suman\n",
    "E_Xtotal = E_x + E_x\n",
    "\n",
    "\n",
    "# Y como esto es un dipolo, no hay fuerza en y (es tribial lol, y sape al que pregunte de que porque es cero)\n",
    "\n",
    "println(E_Xtotal)"
   ]
  },
  {
   "cell_type": "code",
   "execution_count": null,
   "metadata": {},
   "outputs": [],
   "source": []
  }
 ],
 "metadata": {
  "kernelspec": {
   "display_name": "Julia 1.0.0",
   "language": "julia",
   "name": "julia-1.0"
  },
  "language_info": {
   "file_extension": ".jl",
   "mimetype": "application/julia",
   "name": "julia",
   "version": "1.0.0"
  }
 },
 "nbformat": 4,
 "nbformat_minor": 2
}
